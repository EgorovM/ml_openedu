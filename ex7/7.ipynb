{
 "cells": [
  {
   "cell_type": "markdown",
   "metadata": {
    "id": "QJ28l2zDfdOp"
   },
   "source": [
    "## Решатель для 7 упражнения."
   ]
  },
  {
   "cell_type": "markdown",
   "metadata": {
    "id": "j5_rQwAtfdOs"
   },
   "source": [
    "Советуем подключить гугл диск и закидывать папки на него. В Колаб данные грузятся ооочень долго. Подключить диск можно нажав на эту иконку \n",
    "\n",
    "![изображение_2021-05-03_182311.png](data:image/png;base64,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)"
   ]
  },
  {
   "cell_type": "code",
   "execution_count": 3,
   "metadata": {
    "id": "8Y_yemfufdOw"
   },
   "outputs": [],
   "source": [
    "from sklearn.preprocessing import LabelEncoder\n",
    "from sklearn.svm import LinearSVC\n",
    "from sklearn.metrics import classification_report\n",
    "from sklearn.model_selection import train_test_split\n",
    "from IPython.display import Image\n",
    "from imutils import paths\n",
    "import numpy as np\n",
    "import cv2\n",
    "import os"
   ]
  },
  {
   "cell_type": "code",
   "execution_count": 4,
   "metadata": {
    "id": "HZ55sqd7fdOx"
   },
   "outputs": [],
   "source": [
    "def extract_histogram(image, bins=(8, 8, 8)):\n",
    "    hist = cv2.calcHist([image], [0, 1, 2], None, bins, [0, 256, 0, 256, 0, 256])\n",
    "    cv2.normalize(hist, hist)\n",
    "    return hist.flatten()"
   ]
  },
  {
   "cell_type": "code",
   "execution_count": 5,
   "metadata": {},
   "outputs": [],
   "source": [
    "import glob"
   ]
  },
  {
   "cell_type": "code",
   "execution_count": 6,
   "metadata": {
    "id": "p8Oi50vZfdOy"
   },
   "outputs": [],
   "source": [
    "imagePaths = sorted(glob.glob('train/*'))\n",
    "data = []\n",
    "labels = []\n",
    "\n",
    "for (i, imagePath) in enumerate(imagePaths):\n",
    "    image = cv2.imread(imagePath, 1)\n",
    "    label = imagePath.split(os.path.sep)[-1].split(\".\")[0]\n",
    "    hist = extract_histogram(image)\n",
    "    data.append(hist)\n",
    "    labels.append(label)"
   ]
  },
  {
   "cell_type": "code",
   "execution_count": 7,
   "metadata": {
    "colab": {
     "base_uri": "https://localhost:8080/",
     "height": 408
    },
    "id": "Ku04uC7QfdOz",
    "outputId": "1b9f962e-8a1a-45b8-cdd8-59e258ab31e7"
   },
   "outputs": [
    {
     "name": "stdout",
     "output_type": "stream",
     "text": [
      "0\n"
     ]
    },
    {
     "data": {
      "image/jpeg": "[encoded data removed]",
      "text/plain": [
       "<IPython.core.display.Image object>"
      ]
     },
     "execution_count": 7,
     "metadata": {},
     "output_type": "execute_result"
    }
   ],
   "source": [
    "le = LabelEncoder()\n",
    "labels = le.fit_transform(labels)\n",
    "print(labels[0])\n",
    "Image(filename=imagePaths[0])"
   ]
  },
  {
   "cell_type": "code",
   "execution_count": 17,
   "metadata": {
    "id": "E-HQ1FvmfdO0"
   },
   "outputs": [],
   "source": [
    "(trainData, testData, trainLabels, testLabels) = train_test_split(np.array(data), labels, test_size=0.25, random_state=6) # random_state дано в упражнении"
   ]
  },
  {
   "cell_type": "code",
   "execution_count": 18,
   "metadata": {
    "colab": {
     "base_uri": "https://localhost:8080/"
    },
    "id": "NYvtTjabfdO1",
    "outputId": "e6536cd4-a73f-4af8-ebf6-d728504f9340"
   },
   "outputs": [
    {
     "data": {
      "text/plain": [
       "LinearSVC(C=1.39, random_state=6)"
      ]
     },
     "execution_count": 18,
     "metadata": {},
     "output_type": "execute_result"
    }
   ],
   "source": [
    "model = LinearSVC(random_state = 6, C = 1.39) # random_state и С дано в упражнении\n",
    "model.fit(trainData, trainLabels)"
   ]
  },
  {
   "cell_type": "code",
   "execution_count": 19,
   "metadata": {
    "id": "lowuh52zfdO1"
   },
   "outputs": [],
   "source": [
    "predictions = model.predict(testData)"
   ]
  },
  {
   "cell_type": "code",
   "execution_count": 20,
   "metadata": {
    "colab": {
     "base_uri": "https://localhost:8080/"
    },
    "id": "OYq7WTYlfdO1",
    "outputId": "ab2b0c14-5d3d-42fb-b715-dd897ab1e586"
   },
   "outputs": [
    {
     "name": "stdout",
     "output_type": "stream",
     "text": [
      "              precision    recall  f1-score   support\n",
      "\n",
      "         cat       0.58      0.66      0.62       126\n",
      "         dog       0.60      0.52      0.55       124\n",
      "\n",
      "    accuracy                           0.59       250\n",
      "   macro avg       0.59      0.59      0.59       250\n",
      "weighted avg       0.59      0.59      0.59       250\n",
      "\n"
     ]
    }
   ],
   "source": [
    "print(classification_report(testLabels, predictions, target_names=le.classes_))"
   ]
  },
  {
   "cell_type": "code",
   "execution_count": 36,
   "metadata": {},
   "outputs": [],
   "source": [
    "from sklearn.model_selection import cross_val_score"
   ]
  },
  {
   "cell_type": "code",
   "execution_count": 38,
   "metadata": {},
   "outputs": [
    {
     "data": {
      "text/plain": [
       "0.536"
      ]
     },
     "execution_count": 38,
     "metadata": {},
     "output_type": "execute_result"
    }
   ],
   "source": [
    "cross_val_score(model, testData, testLabels, scoring='accuracy', cv=2).mean()"
   ]
  },
  {
   "cell_type": "code",
   "execution_count": 21,
   "metadata": {
    "colab": {
     "base_uri": "https://localhost:8080/"
    },
    "id": "k7Ssbdw5fdO2",
    "outputId": "299d6296-0ba2-47c9-d480-99137ba79bb1"
   },
   "outputs": [
    {
     "data": {
      "text/plain": [
       "0.5856064629298829"
      ]
     },
     "execution_count": 21,
     "metadata": {},
     "output_type": "execute_result"
    }
   ],
   "source": [
    "from sklearn.metrics import f1_score\n",
    "predictions = model.predict(testData)\n",
    "f1_score(testLabels, predictions, average='macro') # среднее значение F1"
   ]
  },
  {
   "cell_type": "code",
   "execution_count": 25,
   "metadata": {
    "colab": {
     "base_uri": "https://localhost:8080/"
    },
    "id": "C8ePuvSZfdO2",
    "outputId": "0cf692c6-8d99-460b-da6d-50c523dcfc1e"
   },
   "outputs": [
    {
     "data": {
      "text/plain": [
       "0.003098476006689849"
      ]
     },
     "execution_count": 25,
     "metadata": {},
     "output_type": "execute_result"
    }
   ],
   "source": [
    "model.coef_[0][252] # не забываем ввести индексы коэффициентов, которые надо найти (они могут быть равны нулю)"
   ]
  },
  {
   "cell_type": "markdown",
   "metadata": {
    "id": "adIHgPO1fdO3"
   },
   "source": [
    "Вычислим предсказания для объекта из папки test"
   ]
  },
  {
   "cell_type": "code",
   "execution_count": 34,
   "metadata": {
    "id": "8IN6xkz1fdO3"
   },
   "outputs": [],
   "source": [
    "singleImage = cv2.imread('test/cat.1000.jpg') # вводим название фото, для которого нужно определить класс \n",
    "histt = extract_histogram(singleImage)\n",
    "histt2 = histt.reshape(1, -1)\n",
    "prediction = model.predict(histt2)"
   ]
  },
  {
   "cell_type": "code",
   "execution_count": 35,
   "metadata": {
    "colab": {
     "base_uri": "https://localhost:8080/"
    },
    "id": "xNAkMqq5fdO4",
    "outputId": "f74d922a-b1b9-4030-e14b-f752ce2a12d9"
   },
   "outputs": [
    {
     "data": {
      "text/plain": [
       "array([1])"
      ]
     },
     "execution_count": 35,
     "metadata": {},
     "output_type": "execute_result"
    }
   ],
   "source": [
    "prediction # если класс ['cat'] - пишем в ответ 0, если ['dog'] - 1"
   ]
  }
 ],
 "metadata": {
  "colab": {
   "collapsed_sections": [],
   "name": "SVM.ipynb",
   "provenance": [],
   "toc_visible": true
  },
  "kernelspec": {
   "display_name": "Python 3",
   "language": "python",
   "name": "python3"
  },
  "language_info": {
   "codemirror_mode": {
    "name": "ipython",
    "version": 3
   },
   "file_extension": ".py",
   "mimetype": "text/x-python",
   "name": "python",
   "nbconvert_exporter": "python",
   "pygments_lexer": "ipython3",
   "version": "3.8.3"
  }
 },
 "nbformat": 4,
 "nbformat_minor": 4
}
