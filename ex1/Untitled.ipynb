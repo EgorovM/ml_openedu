{
 "cells": [
  {
   "cell_type": "code",
   "execution_count": 2,
   "metadata": {},
   "outputs": [],
   "source": [
    "import pandas as pd\n",
    "import numpy as np"
   ]
  },
  {
   "cell_type": "code",
   "execution_count": 3,
   "metadata": {},
   "outputs": [],
   "source": [
    "df = pd.read_csv('report_1.csv')"
   ]
  },
  {
   "cell_type": "code",
   "execution_count": 4,
   "metadata": {},
   "outputs": [
    {
     "data": {
      "text/html": [
       "<div>\n",
       "<style scoped>\n",
       "    .dataframe tbody tr th:only-of-type {\n",
       "        vertical-align: middle;\n",
       "    }\n",
       "\n",
       "    .dataframe tbody tr th {\n",
       "        vertical-align: top;\n",
       "    }\n",
       "\n",
       "    .dataframe thead th {\n",
       "        text-align: right;\n",
       "    }\n",
       "</style>\n",
       "<table border=\"1\" class=\"dataframe\">\n",
       "  <thead>\n",
       "    <tr style=\"text-align: right;\">\n",
       "      <th></th>\n",
       "      <th>MIP</th>\n",
       "      <th>STDIP</th>\n",
       "      <th>EKIP</th>\n",
       "      <th>SIP</th>\n",
       "      <th>MC</th>\n",
       "      <th>STDC</th>\n",
       "      <th>EKC</th>\n",
       "      <th>SC</th>\n",
       "      <th>TARGET</th>\n",
       "    </tr>\n",
       "  </thead>\n",
       "  <tbody>\n",
       "    <tr>\n",
       "      <th>0</th>\n",
       "      <td>8.226562</td>\n",
       "      <td>32.557933</td>\n",
       "      <td>5.896484</td>\n",
       "      <td>35.287238</td>\n",
       "      <td>184.525920</td>\n",
       "      <td>62.914859</td>\n",
       "      <td>-1.019263</td>\n",
       "      <td>0.176961</td>\n",
       "      <td>1</td>\n",
       "    </tr>\n",
       "    <tr>\n",
       "      <th>1</th>\n",
       "      <td>104.507812</td>\n",
       "      <td>50.274403</td>\n",
       "      <td>0.268410</td>\n",
       "      <td>-0.169219</td>\n",
       "      <td>1.729933</td>\n",
       "      <td>17.057981</td>\n",
       "      <td>11.706642</td>\n",
       "      <td>147.034435</td>\n",
       "      <td>0</td>\n",
       "    </tr>\n",
       "    <tr>\n",
       "      <th>2</th>\n",
       "      <td>104.468750</td>\n",
       "      <td>49.467309</td>\n",
       "      <td>0.328236</td>\n",
       "      <td>-0.094803</td>\n",
       "      <td>2.026756</td>\n",
       "      <td>15.993392</td>\n",
       "      <td>10.004127</td>\n",
       "      <td>115.104641</td>\n",
       "      <td>0</td>\n",
       "    </tr>\n",
       "    <tr>\n",
       "      <th>3</th>\n",
       "      <td>11.976562</td>\n",
       "      <td>29.577616</td>\n",
       "      <td>7.550922</td>\n",
       "      <td>56.537747</td>\n",
       "      <td>128.020067</td>\n",
       "      <td>73.431466</td>\n",
       "      <td>-0.124472</td>\n",
       "      <td>-0.899232</td>\n",
       "      <td>1</td>\n",
       "    </tr>\n",
       "    <tr>\n",
       "      <th>4</th>\n",
       "      <td>11.218750</td>\n",
       "      <td>30.973511</td>\n",
       "      <td>5.992365</td>\n",
       "      <td>37.868741</td>\n",
       "      <td>97.445652</td>\n",
       "      <td>76.527529</td>\n",
       "      <td>0.191543</td>\n",
       "      <td>-1.020215</td>\n",
       "      <td>1</td>\n",
       "    </tr>\n",
       "  </tbody>\n",
       "</table>\n",
       "</div>"
      ],
      "text/plain": [
       "          MIP      STDIP      EKIP        SIP          MC       STDC  \\\n",
       "0    8.226562  32.557933  5.896484  35.287238  184.525920  62.914859   \n",
       "1  104.507812  50.274403  0.268410  -0.169219    1.729933  17.057981   \n",
       "2  104.468750  49.467309  0.328236  -0.094803    2.026756  15.993392   \n",
       "3   11.976562  29.577616  7.550922  56.537747  128.020067  73.431466   \n",
       "4   11.218750  30.973511  5.992365  37.868741   97.445652  76.527529   \n",
       "\n",
       "         EKC          SC  TARGET  \n",
       "0  -1.019263    0.176961       1  \n",
       "1  11.706642  147.034435       0  \n",
       "2  10.004127  115.104641       0  \n",
       "3  -0.124472   -0.899232       1  \n",
       "4   0.191543   -1.020215       1  "
      ]
     },
     "execution_count": 4,
     "metadata": {},
     "output_type": "execute_result"
    }
   ],
   "source": [
    "df.head()"
   ]
  },
  {
   "cell_type": "code",
   "execution_count": 5,
   "metadata": {},
   "outputs": [
    {
     "data": {
      "text/plain": [
       "(203, 9)"
      ]
     },
     "execution_count": 5,
     "metadata": {},
     "output_type": "execute_result"
    }
   ],
   "source": [
    "df.shape"
   ]
  },
  {
   "cell_type": "code",
   "execution_count": 6,
   "metadata": {},
   "outputs": [
    {
     "data": {
      "text/plain": [
       "57.58505233990148"
      ]
     },
     "execution_count": 6,
     "metadata": {},
     "output_type": "execute_result"
    }
   ],
   "source": [
    "df['MIP'].mean()"
   ]
  },
  {
   "cell_type": "code",
   "execution_count": 7,
   "metadata": {},
   "outputs": [],
   "source": [
    "from sklearn.preprocessing import MinMaxScaler"
   ]
  },
  {
   "cell_type": "code",
   "execution_count": 8,
   "metadata": {},
   "outputs": [],
   "source": [
    "scaler = MinMaxScaler()"
   ]
  },
  {
   "cell_type": "code",
   "execution_count": 9,
   "metadata": {},
   "outputs": [],
   "source": [
    "df_features = df.drop('TARGET', axis=1)"
   ]
  },
  {
   "cell_type": "code",
   "execution_count": 10,
   "metadata": {},
   "outputs": [],
   "source": [
    "df_scaled = pd.DataFrame(scaler.fit_transform(df_features))\n",
    "df_scaled.columns = df_features.columns"
   ]
  },
  {
   "cell_type": "code",
   "execution_count": 11,
   "metadata": {},
   "outputs": [
    {
     "data": {
      "text/plain": [
       "0.5241546072536098"
      ]
     },
     "execution_count": 11,
     "metadata": {},
     "output_type": "execute_result"
    }
   ],
   "source": [
    "df_scaled.MIP.mean()"
   ]
  },
  {
   "cell_type": "code",
   "execution_count": 12,
   "metadata": {},
   "outputs": [],
   "source": [
    "STAR = [0.728, 0.568, 0.087, 0.183, 0.572, 0.91, 0.097, 0.429]"
   ]
  },
  {
   "cell_type": "code",
   "execution_count": 13,
   "metadata": {},
   "outputs": [],
   "source": [
    "distances = df_scaled.apply(lambda x: np.sqrt(np.sum((x - STAR)**2)), axis=1)"
   ]
  },
  {
   "cell_type": "code",
   "execution_count": 14,
   "metadata": {},
   "outputs": [
    {
     "data": {
      "text/plain": [
       "157    0.553805\n",
       "190    0.694384\n",
       "129    0.725808\n",
       "96     0.759445\n",
       "171    0.765157\n",
       "         ...   \n",
       "42     1.540239\n",
       "130    1.552053\n",
       "161    1.590936\n",
       "147    1.592240\n",
       "16     1.592663\n",
       "Length: 203, dtype: float64"
      ]
     },
     "execution_count": 14,
     "metadata": {},
     "output_type": "execute_result"
    }
   ],
   "source": [
    "distances.sort_values()"
   ]
  },
  {
   "cell_type": "code",
   "execution_count": null,
   "metadata": {},
   "outputs": [],
   "source": []
  }
 ],
 "metadata": {
  "kernelspec": {
   "display_name": "cs102",
   "language": "python",
   "name": "cs102"
  },
  "language_info": {
   "codemirror_mode": {
    "name": "ipython",
    "version": 3
   },
   "file_extension": ".py",
   "mimetype": "text/x-python",
   "name": "python",
   "nbconvert_exporter": "python",
   "pygments_lexer": "ipython3",
   "version": "3.8.3"
  }
 },
 "nbformat": 4,
 "nbformat_minor": 4
}
