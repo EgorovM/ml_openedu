{
 "cells": [
  {
   "cell_type": "code",
   "execution_count": 24,
   "metadata": {},
   "outputs": [],
   "source": [
    "import pandas as pd\n",
    "import numpy as np"
   ]
  },
  {
   "cell_type": "code",
   "execution_count": 2,
   "metadata": {},
   "outputs": [],
   "source": [
    "df = pd.read_csv('report.csv')"
   ]
  },
  {
   "cell_type": "code",
   "execution_count": 3,
   "metadata": {},
   "outputs": [
    {
     "data": {
      "text/html": [
       "<div>\n",
       "<style scoped>\n",
       "    .dataframe tbody tr th:only-of-type {\n",
       "        vertical-align: middle;\n",
       "    }\n",
       "\n",
       "    .dataframe tbody tr th {\n",
       "        vertical-align: top;\n",
       "    }\n",
       "\n",
       "    .dataframe thead th {\n",
       "        text-align: right;\n",
       "    }\n",
       "</style>\n",
       "<table border=\"1\" class=\"dataframe\">\n",
       "  <thead>\n",
       "    <tr style=\"text-align: right;\">\n",
       "      <th></th>\n",
       "      <th>MIP</th>\n",
       "      <th>STDIP</th>\n",
       "      <th>EKIP</th>\n",
       "      <th>SIP</th>\n",
       "      <th>MC</th>\n",
       "      <th>STDC</th>\n",
       "      <th>EKC</th>\n",
       "      <th>SC</th>\n",
       "      <th>TARGET</th>\n",
       "    </tr>\n",
       "  </thead>\n",
       "  <tbody>\n",
       "    <tr>\n",
       "      <th>0</th>\n",
       "      <td>76.523438</td>\n",
       "      <td>34.087196</td>\n",
       "      <td>2.024270</td>\n",
       "      <td>8.131775</td>\n",
       "      <td>7.983278</td>\n",
       "      <td>36.657363</td>\n",
       "      <td>4.888890</td>\n",
       "      <td>23.675354</td>\n",
       "      <td>1</td>\n",
       "    </tr>\n",
       "    <tr>\n",
       "      <th>1</th>\n",
       "      <td>98.367188</td>\n",
       "      <td>50.305919</td>\n",
       "      <td>0.409147</td>\n",
       "      <td>0.073141</td>\n",
       "      <td>0.842809</td>\n",
       "      <td>11.235635</td>\n",
       "      <td>16.359947</td>\n",
       "      <td>301.281519</td>\n",
       "      <td>0</td>\n",
       "    </tr>\n",
       "    <tr>\n",
       "      <th>2</th>\n",
       "      <td>98.468750</td>\n",
       "      <td>38.377634</td>\n",
       "      <td>0.444190</td>\n",
       "      <td>1.620170</td>\n",
       "      <td>2.318562</td>\n",
       "      <td>15.334935</td>\n",
       "      <td>10.598637</td>\n",
       "      <td>141.679457</td>\n",
       "      <td>0</td>\n",
       "    </tr>\n",
       "    <tr>\n",
       "      <th>3</th>\n",
       "      <td>73.601562</td>\n",
       "      <td>37.389282</td>\n",
       "      <td>1.978300</td>\n",
       "      <td>7.076543</td>\n",
       "      <td>5.881271</td>\n",
       "      <td>30.217483</td>\n",
       "      <td>5.758598</td>\n",
       "      <td>33.909779</td>\n",
       "      <td>1</td>\n",
       "    </tr>\n",
       "    <tr>\n",
       "      <th>4</th>\n",
       "      <td>98.390625</td>\n",
       "      <td>38.090606</td>\n",
       "      <td>0.181847</td>\n",
       "      <td>1.328353</td>\n",
       "      <td>2.646321</td>\n",
       "      <td>15.262458</td>\n",
       "      <td>8.322597</td>\n",
       "      <td>90.983960</td>\n",
       "      <td>0</td>\n",
       "    </tr>\n",
       "  </tbody>\n",
       "</table>\n",
       "</div>"
      ],
      "text/plain": [
       "         MIP      STDIP      EKIP       SIP        MC       STDC        EKC  \\\n",
       "0  76.523438  34.087196  2.024270  8.131775  7.983278  36.657363   4.888890   \n",
       "1  98.367188  50.305919  0.409147  0.073141  0.842809  11.235635  16.359947   \n",
       "2  98.468750  38.377634  0.444190  1.620170  2.318562  15.334935  10.598637   \n",
       "3  73.601562  37.389282  1.978300  7.076543  5.881271  30.217483   5.758598   \n",
       "4  98.390625  38.090606  0.181847  1.328353  2.646321  15.262458   8.322597   \n",
       "\n",
       "           SC  TARGET  \n",
       "0   23.675354       1  \n",
       "1  301.281519       0  \n",
       "2  141.679457       0  \n",
       "3   33.909779       1  \n",
       "4   90.983960       0  "
      ]
     },
     "execution_count": 3,
     "metadata": {},
     "output_type": "execute_result"
    }
   ],
   "source": [
    "df.head()"
   ]
  },
  {
   "cell_type": "code",
   "execution_count": 4,
   "metadata": {},
   "outputs": [
    {
     "data": {
      "text/plain": [
       "(203, 9)"
      ]
     },
     "execution_count": 4,
     "metadata": {},
     "output_type": "execute_result"
    }
   ],
   "source": [
    "df.shape"
   ]
  },
  {
   "cell_type": "code",
   "execution_count": 6,
   "metadata": {},
   "outputs": [
    {
     "data": {
      "text/plain": [
       "86.29960745073892"
      ]
     },
     "execution_count": 6,
     "metadata": {},
     "output_type": "execute_result"
    }
   ],
   "source": [
    "df['MIP'].mean()"
   ]
  },
  {
   "cell_type": "code",
   "execution_count": 7,
   "metadata": {},
   "outputs": [],
   "source": [
    "from sklearn.preprocessing import MinMaxScaler"
   ]
  },
  {
   "cell_type": "code",
   "execution_count": 9,
   "metadata": {},
   "outputs": [],
   "source": [
    "scaler = MinMaxScaler()"
   ]
  },
  {
   "cell_type": "code",
   "execution_count": 11,
   "metadata": {},
   "outputs": [
    {
     "data": {
      "text/html": [
       "<div>\n",
       "<style scoped>\n",
       "    .dataframe tbody tr th:only-of-type {\n",
       "        vertical-align: middle;\n",
       "    }\n",
       "\n",
       "    .dataframe tbody tr th {\n",
       "        vertical-align: top;\n",
       "    }\n",
       "\n",
       "    .dataframe thead th {\n",
       "        text-align: right;\n",
       "    }\n",
       "</style>\n",
       "<table border=\"1\" class=\"dataframe\">\n",
       "  <thead>\n",
       "    <tr style=\"text-align: right;\">\n",
       "      <th></th>\n",
       "      <th>MIP</th>\n",
       "      <th>STDIP</th>\n",
       "      <th>EKIP</th>\n",
       "      <th>SIP</th>\n",
       "      <th>MC</th>\n",
       "      <th>STDC</th>\n",
       "      <th>EKC</th>\n",
       "      <th>SC</th>\n",
       "    </tr>\n",
       "  </thead>\n",
       "  <tbody>\n",
       "    <tr>\n",
       "      <th>0</th>\n",
       "      <td>76.523438</td>\n",
       "      <td>34.087196</td>\n",
       "      <td>2.024270</td>\n",
       "      <td>8.131775</td>\n",
       "      <td>7.983278</td>\n",
       "      <td>36.657363</td>\n",
       "      <td>4.888890</td>\n",
       "      <td>23.675354</td>\n",
       "    </tr>\n",
       "    <tr>\n",
       "      <th>1</th>\n",
       "      <td>98.367188</td>\n",
       "      <td>50.305919</td>\n",
       "      <td>0.409147</td>\n",
       "      <td>0.073141</td>\n",
       "      <td>0.842809</td>\n",
       "      <td>11.235635</td>\n",
       "      <td>16.359947</td>\n",
       "      <td>301.281519</td>\n",
       "    </tr>\n",
       "    <tr>\n",
       "      <th>2</th>\n",
       "      <td>98.468750</td>\n",
       "      <td>38.377634</td>\n",
       "      <td>0.444190</td>\n",
       "      <td>1.620170</td>\n",
       "      <td>2.318562</td>\n",
       "      <td>15.334935</td>\n",
       "      <td>10.598637</td>\n",
       "      <td>141.679457</td>\n",
       "    </tr>\n",
       "    <tr>\n",
       "      <th>3</th>\n",
       "      <td>73.601562</td>\n",
       "      <td>37.389282</td>\n",
       "      <td>1.978300</td>\n",
       "      <td>7.076543</td>\n",
       "      <td>5.881271</td>\n",
       "      <td>30.217483</td>\n",
       "      <td>5.758598</td>\n",
       "      <td>33.909779</td>\n",
       "    </tr>\n",
       "    <tr>\n",
       "      <th>4</th>\n",
       "      <td>98.390625</td>\n",
       "      <td>38.090606</td>\n",
       "      <td>0.181847</td>\n",
       "      <td>1.328353</td>\n",
       "      <td>2.646321</td>\n",
       "      <td>15.262458</td>\n",
       "      <td>8.322597</td>\n",
       "      <td>90.983960</td>\n",
       "    </tr>\n",
       "    <tr>\n",
       "      <th>...</th>\n",
       "      <td>...</td>\n",
       "      <td>...</td>\n",
       "      <td>...</td>\n",
       "      <td>...</td>\n",
       "      <td>...</td>\n",
       "      <td>...</td>\n",
       "      <td>...</td>\n",
       "      <td>...</td>\n",
       "    </tr>\n",
       "    <tr>\n",
       "      <th>198</th>\n",
       "      <td>98.398438</td>\n",
       "      <td>39.894263</td>\n",
       "      <td>0.355472</td>\n",
       "      <td>1.479615</td>\n",
       "      <td>4.084448</td>\n",
       "      <td>21.655104</td>\n",
       "      <td>6.472466</td>\n",
       "      <td>47.479061</td>\n",
       "    </tr>\n",
       "    <tr>\n",
       "      <th>199</th>\n",
       "      <td>98.203125</td>\n",
       "      <td>35.151093</td>\n",
       "      <td>0.615165</td>\n",
       "      <td>2.365818</td>\n",
       "      <td>2.602007</td>\n",
       "      <td>15.251530</td>\n",
       "      <td>8.414599</td>\n",
       "      <td>92.122652</td>\n",
       "    </tr>\n",
       "    <tr>\n",
       "      <th>200</th>\n",
       "      <td>98.398438</td>\n",
       "      <td>38.684893</td>\n",
       "      <td>0.309010</td>\n",
       "      <td>1.338891</td>\n",
       "      <td>3.319398</td>\n",
       "      <td>21.789852</td>\n",
       "      <td>8.000014</td>\n",
       "      <td>70.629042</td>\n",
       "    </tr>\n",
       "    <tr>\n",
       "      <th>201</th>\n",
       "      <td>98.195312</td>\n",
       "      <td>41.388038</td>\n",
       "      <td>0.494908</td>\n",
       "      <td>0.943453</td>\n",
       "      <td>13.322742</td>\n",
       "      <td>49.246271</td>\n",
       "      <td>3.451562</td>\n",
       "      <td>10.029465</td>\n",
       "    </tr>\n",
       "    <tr>\n",
       "      <th>202</th>\n",
       "      <td>74.484375</td>\n",
       "      <td>38.732453</td>\n",
       "      <td>1.442539</td>\n",
       "      <td>4.753956</td>\n",
       "      <td>5.420569</td>\n",
       "      <td>29.346925</td>\n",
       "      <td>5.828484</td>\n",
       "      <td>34.522743</td>\n",
       "    </tr>\n",
       "  </tbody>\n",
       "</table>\n",
       "<p>203 rows × 8 columns</p>\n",
       "</div>"
      ],
      "text/plain": [
       "           MIP      STDIP      EKIP       SIP         MC       STDC  \\\n",
       "0    76.523438  34.087196  2.024270  8.131775   7.983278  36.657363   \n",
       "1    98.367188  50.305919  0.409147  0.073141   0.842809  11.235635   \n",
       "2    98.468750  38.377634  0.444190  1.620170   2.318562  15.334935   \n",
       "3    73.601562  37.389282  1.978300  7.076543   5.881271  30.217483   \n",
       "4    98.390625  38.090606  0.181847  1.328353   2.646321  15.262458   \n",
       "..         ...        ...       ...       ...        ...        ...   \n",
       "198  98.398438  39.894263  0.355472  1.479615   4.084448  21.655104   \n",
       "199  98.203125  35.151093  0.615165  2.365818   2.602007  15.251530   \n",
       "200  98.398438  38.684893  0.309010  1.338891   3.319398  21.789852   \n",
       "201  98.195312  41.388038  0.494908  0.943453  13.322742  49.246271   \n",
       "202  74.484375  38.732453  1.442539  4.753956   5.420569  29.346925   \n",
       "\n",
       "           EKC          SC  \n",
       "0     4.888890   23.675354  \n",
       "1    16.359947  301.281519  \n",
       "2    10.598637  141.679457  \n",
       "3     5.758598   33.909779  \n",
       "4     8.322597   90.983960  \n",
       "..         ...         ...  \n",
       "198   6.472466   47.479061  \n",
       "199   8.414599   92.122652  \n",
       "200   8.000014   70.629042  \n",
       "201   3.451562   10.029465  \n",
       "202   5.828484   34.522743  \n",
       "\n",
       "[203 rows x 8 columns]"
      ]
     },
     "execution_count": 11,
     "metadata": {},
     "output_type": "execute_result"
    }
   ],
   "source": []
  },
  {
   "cell_type": "code",
   "execution_count": 18,
   "metadata": {},
   "outputs": [],
   "source": [
    "df_features = df.drop('TARGET', axis=1)"
   ]
  },
  {
   "cell_type": "code",
   "execution_count": 19,
   "metadata": {},
   "outputs": [],
   "source": [
    "df_scaled = pd.DataFrame(scaler.fit_transform(df_features))\n",
    "df_scaled.columns = df_features.columns"
   ]
  },
  {
   "cell_type": "code",
   "execution_count": 21,
   "metadata": {},
   "outputs": [
    {
     "data": {
      "text/plain": [
       "0.5611016493926685"
      ]
     },
     "execution_count": 21,
     "metadata": {},
     "output_type": "execute_result"
    }
   ],
   "source": [
    "df_scaled.MIP.mean()"
   ]
  },
  {
   "cell_type": "code",
   "execution_count": 22,
   "metadata": {},
   "outputs": [],
   "source": [
    "STAR = [0.533, 0.574, 0.172, 0.011, 0.35, 0.695, 0.483, 0.179]"
   ]
  },
  {
   "cell_type": "code",
   "execution_count": 26,
   "metadata": {},
   "outputs": [],
   "source": [
    "distances = df_scaled.apply(lambda x: np.sqrt(np.sum((x - STAR)**2)), axis=1)"
   ]
  },
  {
   "cell_type": "code",
   "execution_count": 28,
   "metadata": {},
   "outputs": [
    {
     "data": {
      "text/plain": [
       "89     0.633082\n",
       "41     0.648111\n",
       "117    0.674377\n",
       "130    0.688011\n",
       "19     0.691521\n",
       "         ...   \n",
       "116    1.386811\n",
       "145    1.402973\n",
       "121    1.421466\n",
       "156    1.452561\n",
       "164    1.590654\n",
       "Length: 203, dtype: float64"
      ]
     },
     "execution_count": 28,
     "metadata": {},
     "output_type": "execute_result"
    }
   ],
   "source": [
    "distances.sort_values()"
   ]
  },
  {
   "cell_type": "code",
   "execution_count": null,
   "metadata": {},
   "outputs": [],
   "source": []
  }
 ],
 "metadata": {
  "kernelspec": {
   "display_name": "cs102",
   "language": "python",
   "name": "cs102"
  },
  "language_info": {
   "codemirror_mode": {
    "name": "ipython",
    "version": 3
   },
   "file_extension": ".py",
   "mimetype": "text/x-python",
   "name": "python",
   "nbconvert_exporter": "python",
   "pygments_lexer": "ipython3",
   "version": "3.8.3"
  }
 },
 "nbformat": 4,
 "nbformat_minor": 4
}
