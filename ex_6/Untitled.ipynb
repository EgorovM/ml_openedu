{
 "cells": [
  {
   "cell_type": "code",
   "execution_count": 1,
   "metadata": {},
   "outputs": [],
   "source": [
    "import pandas as pd\n",
    "import numpy as np"
   ]
  },
  {
   "cell_type": "code",
   "execution_count": 2,
   "metadata": {},
   "outputs": [],
   "source": [
    "df = pd.read_csv('candy-data (1).csv')"
   ]
  },
  {
   "cell_type": "code",
   "execution_count": 3,
   "metadata": {},
   "outputs": [],
   "source": [
    "x_real = ['chocolate',\n",
    " 'fruity',\n",
    " 'caramel',\n",
    " 'peanutyalmondy',\n",
    " 'nougat',\n",
    " 'crispedricewafer',\n",
    " 'hard',\n",
    " 'bar',\n",
    " 'pluribus',\n",
    " 'sugarpercent',\n",
    " 'pricepercent']\n",
    "\n",
    "target = 'Y'"
   ]
  },
  {
   "cell_type": "code",
   "execution_count": 4,
   "metadata": {},
   "outputs": [],
   "source": [
    "test_candy = ['Nestle Butterfinger', 'Ring pop', 'Sixlets']"
   ]
  },
  {
   "cell_type": "code",
   "execution_count": 5,
   "metadata": {},
   "outputs": [],
   "source": [
    "df_train = df.query(f\"competitorname not in {test_candy}\")\n",
    "df_test = df.query(f\"competitorname in {test_candy}\")"
   ]
  },
  {
   "cell_type": "code",
   "execution_count": 6,
   "metadata": {},
   "outputs": [
    {
     "data": {
      "text/plain": [
       "((67, 14), (3, 14))"
      ]
     },
     "execution_count": 6,
     "metadata": {},
     "output_type": "execute_result"
    }
   ],
   "source": [
    "df_train.shape, df_test.shape"
   ]
  },
  {
   "cell_type": "code",
   "execution_count": 7,
   "metadata": {},
   "outputs": [],
   "source": [
    "from sklearn.linear_model import LogisticRegression"
   ]
  },
  {
   "cell_type": "code",
   "execution_count": 8,
   "metadata": {},
   "outputs": [
    {
     "data": {
      "text/plain": [
       "LogisticRegression(random_state=2019)"
      ]
     },
     "execution_count": 8,
     "metadata": {},
     "output_type": "execute_result"
    }
   ],
   "source": [
    "model = LogisticRegression(random_state=2019, solver='lbfgs')\n",
    "model.fit(df_train[x_real], df_train[target])"
   ]
  },
  {
   "cell_type": "code",
   "execution_count": 9,
   "metadata": {},
   "outputs": [
    {
     "data": {
      "text/plain": [
       "(67,)"
      ]
     },
     "execution_count": 9,
     "metadata": {},
     "output_type": "execute_result"
    }
   ],
   "source": [
    "df_train[target].shape"
   ]
  },
  {
   "cell_type": "code",
   "execution_count": null,
   "metadata": {},
   "outputs": [],
   "source": [
    "model.predict_proba(df_train)"
   ]
  },
  {
   "cell_type": "code",
   "execution_count": 28,
   "metadata": {},
   "outputs": [],
   "source": [
    "y_pred = model.predict(df_test[x_real])"
   ]
  },
  {
   "cell_type": "code",
   "execution_count": 29,
   "metadata": {},
   "outputs": [
    {
     "name": "stdout",
     "output_type": "stream",
     "text": [
      "Nestle Butterfinger [1 0 1]\n",
      "Ring pop [1 0 1]\n",
      "Sixlets [1 0 1]\n"
     ]
    },
    {
     "data": {
      "text/plain": [
       "42    None\n",
       "55    None\n",
       "59    None\n",
       "Name: competitorname, dtype: object"
      ]
     },
     "execution_count": 29,
     "metadata": {},
     "output_type": "execute_result"
    }
   ],
   "source": [
    "df_test.competitorname.apply(lambda x: print(x, y_pred))"
   ]
  },
  {
   "cell_type": "code",
   "execution_count": 37,
   "metadata": {},
   "outputs": [],
   "source": [
    "df_test = pd.read_csv('candy-test.csv')"
   ]
  },
  {
   "cell_type": "code",
   "execution_count": 83,
   "metadata": {},
   "outputs": [],
   "source": [
    "df_test['label_proba_0'] = model.predict_proba(df_test[x_real])[:, 0]\n",
    "df_test['label_proba_1'] = model.predict_proba(df_test[x_real])[:, 1]"
   ]
  },
  {
   "cell_type": "code",
   "execution_count": 84,
   "metadata": {},
   "outputs": [],
   "source": [
    "df_test['label'] = model.predict(df_test[x_real])"
   ]
  },
  {
   "cell_type": "code",
   "execution_count": 86,
   "metadata": {},
   "outputs": [
    {
     "data": {
      "text/html": [
       "<div>\n",
       "<style scoped>\n",
       "    .dataframe tbody tr th:only-of-type {\n",
       "        vertical-align: middle;\n",
       "    }\n",
       "\n",
       "    .dataframe tbody tr th {\n",
       "        vertical-align: top;\n",
       "    }\n",
       "\n",
       "    .dataframe thead th {\n",
       "        text-align: right;\n",
       "    }\n",
       "</style>\n",
       "<table border=\"1\" class=\"dataframe\">\n",
       "  <thead>\n",
       "    <tr style=\"text-align: right;\">\n",
       "      <th></th>\n",
       "      <th>competitorname</th>\n",
       "      <th>label_proba_0</th>\n",
       "      <th>label_proba_1</th>\n",
       "      <th>label</th>\n",
       "      <th>Y</th>\n",
       "    </tr>\n",
       "  </thead>\n",
       "  <tbody>\n",
       "    <tr>\n",
       "      <th>0</th>\n",
       "      <td>Sugar Babies</td>\n",
       "      <td>0.722509</td>\n",
       "      <td>0.277491</td>\n",
       "      <td>0</td>\n",
       "      <td>0</td>\n",
       "    </tr>\n",
       "    <tr>\n",
       "      <th>1</th>\n",
       "      <td>Sugar Daddy</td>\n",
       "      <td>0.578595</td>\n",
       "      <td>0.421405</td>\n",
       "      <td>0</td>\n",
       "      <td>0</td>\n",
       "    </tr>\n",
       "    <tr>\n",
       "      <th>2</th>\n",
       "      <td>Super Bubble</td>\n",
       "      <td>0.649137</td>\n",
       "      <td>0.350863</td>\n",
       "      <td>0</td>\n",
       "      <td>0</td>\n",
       "    </tr>\n",
       "    <tr>\n",
       "      <th>3</th>\n",
       "      <td>Swedish Fish</td>\n",
       "      <td>0.620202</td>\n",
       "      <td>0.379798</td>\n",
       "      <td>0</td>\n",
       "      <td>1</td>\n",
       "    </tr>\n",
       "    <tr>\n",
       "      <th>4</th>\n",
       "      <td>Tootsie Pop</td>\n",
       "      <td>0.219140</td>\n",
       "      <td>0.780860</td>\n",
       "      <td>1</td>\n",
       "      <td>1</td>\n",
       "    </tr>\n",
       "    <tr>\n",
       "      <th>5</th>\n",
       "      <td>Tootsie Roll Juniors</td>\n",
       "      <td>0.272845</td>\n",
       "      <td>0.727155</td>\n",
       "      <td>1</td>\n",
       "      <td>0</td>\n",
       "    </tr>\n",
       "    <tr>\n",
       "      <th>6</th>\n",
       "      <td>Tootsie Roll Midgies</td>\n",
       "      <td>0.267772</td>\n",
       "      <td>0.732228</td>\n",
       "      <td>1</td>\n",
       "      <td>0</td>\n",
       "    </tr>\n",
       "    <tr>\n",
       "      <th>7</th>\n",
       "      <td>Tootsie Roll Snack Bars</td>\n",
       "      <td>0.203377</td>\n",
       "      <td>0.796623</td>\n",
       "      <td>1</td>\n",
       "      <td>1</td>\n",
       "    </tr>\n",
       "    <tr>\n",
       "      <th>8</th>\n",
       "      <td>Trolli Sour Bites</td>\n",
       "      <td>0.634852</td>\n",
       "      <td>0.365148</td>\n",
       "      <td>0</td>\n",
       "      <td>0</td>\n",
       "    </tr>\n",
       "    <tr>\n",
       "      <th>9</th>\n",
       "      <td>Twix</td>\n",
       "      <td>0.610228</td>\n",
       "      <td>0.389772</td>\n",
       "      <td>0</td>\n",
       "      <td>1</td>\n",
       "    </tr>\n",
       "    <tr>\n",
       "      <th>10</th>\n",
       "      <td>Twizzlers</td>\n",
       "      <td>0.642061</td>\n",
       "      <td>0.357939</td>\n",
       "      <td>0</td>\n",
       "      <td>0</td>\n",
       "    </tr>\n",
       "    <tr>\n",
       "      <th>11</th>\n",
       "      <td>Warheads</td>\n",
       "      <td>0.844279</td>\n",
       "      <td>0.155721</td>\n",
       "      <td>0</td>\n",
       "      <td>0</td>\n",
       "    </tr>\n",
       "    <tr>\n",
       "      <th>12</th>\n",
       "      <td>Welchs Fruit Snacks</td>\n",
       "      <td>0.637335</td>\n",
       "      <td>0.362665</td>\n",
       "      <td>0</td>\n",
       "      <td>0</td>\n",
       "    </tr>\n",
       "    <tr>\n",
       "      <th>13</th>\n",
       "      <td>Werthers Original Caramel</td>\n",
       "      <td>0.384567</td>\n",
       "      <td>0.615433</td>\n",
       "      <td>1</td>\n",
       "      <td>0</td>\n",
       "    </tr>\n",
       "    <tr>\n",
       "      <th>14</th>\n",
       "      <td>Whoppers</td>\n",
       "      <td>0.227350</td>\n",
       "      <td>0.772650</td>\n",
       "      <td>1</td>\n",
       "      <td>1</td>\n",
       "    </tr>\n",
       "  </tbody>\n",
       "</table>\n",
       "</div>"
      ],
      "text/plain": [
       "               competitorname  label_proba_0  label_proba_1  label  Y\n",
       "0                Sugar Babies       0.722509       0.277491      0  0\n",
       "1                 Sugar Daddy       0.578595       0.421405      0  0\n",
       "2                Super Bubble       0.649137       0.350863      0  0\n",
       "3                Swedish Fish       0.620202       0.379798      0  1\n",
       "4                 Tootsie Pop       0.219140       0.780860      1  1\n",
       "5        Tootsie Roll Juniors       0.272845       0.727155      1  0\n",
       "6        Tootsie Roll Midgies       0.267772       0.732228      1  0\n",
       "7     Tootsie Roll Snack Bars       0.203377       0.796623      1  1\n",
       "8           Trolli Sour Bites       0.634852       0.365148      0  0\n",
       "9                        Twix       0.610228       0.389772      0  1\n",
       "10                  Twizzlers       0.642061       0.357939      0  0\n",
       "11                   Warheads       0.844279       0.155721      0  0\n",
       "12        Welchs Fruit Snacks       0.637335       0.362665      0  0\n",
       "13  Werthers Original Caramel       0.384567       0.615433      1  0\n",
       "14                   Whoppers       0.227350       0.772650      1  1"
      ]
     },
     "execution_count": 86,
     "metadata": {},
     "output_type": "execute_result"
    }
   ],
   "source": [
    "df_test[['competitorname', 'label_proba_0', 'label_proba_1', 'label', 'Y']]"
   ]
  },
  {
   "cell_type": "code",
   "execution_count": 87,
   "metadata": {},
   "outputs": [],
   "source": [
    "from sklearn.metrics import recall_score, precision_score, auc, roc_curve"
   ]
  },
  {
   "cell_type": "code",
   "execution_count": 88,
   "metadata": {},
   "outputs": [
    {
     "data": {
      "text/plain": [
       "0.6"
      ]
     },
     "execution_count": 88,
     "metadata": {},
     "output_type": "execute_result"
    }
   ],
   "source": [
    "recall_score(df_test['Y'], df_test['label'])"
   ]
  },
  {
   "cell_type": "code",
   "execution_count": 89,
   "metadata": {},
   "outputs": [
    {
     "data": {
      "text/plain": [
       "0.5"
      ]
     },
     "execution_count": 89,
     "metadata": {},
     "output_type": "execute_result"
    }
   ],
   "source": [
    "precision_score(df_test['Y'], df_test['label'])"
   ]
  },
  {
   "cell_type": "code",
   "execution_count": 94,
   "metadata": {},
   "outputs": [
    {
     "data": {
      "text/plain": [
       "0.84"
      ]
     },
     "execution_count": 94,
     "metadata": {},
     "output_type": "execute_result"
    }
   ],
   "source": [
    "fpr, tpr, _ = roc_curve(df_test['Y'] + 1, df_test['label_proba_1'], pos_label=2)\n",
    "\n",
    "auc(fpr, tpr)"
   ]
  },
  {
   "cell_type": "code",
   "execution_count": null,
   "metadata": {},
   "outputs": [],
   "source": []
  }
 ],
 "metadata": {
  "kernelspec": {
   "display_name": "cs102",
   "language": "python",
   "name": "cs102"
  },
  "language_info": {
   "codemirror_mode": {
    "name": "ipython",
    "version": 3
   },
   "file_extension": ".py",
   "mimetype": "text/x-python",
   "name": "python",
   "nbconvert_exporter": "python",
   "pygments_lexer": "ipython3",
   "version": "3.8.3"
  }
 },
 "nbformat": 4,
 "nbformat_minor": 4
}
